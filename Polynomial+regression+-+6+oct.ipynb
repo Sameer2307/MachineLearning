{
 "cells": [
  {
   "cell_type": "code",
   "execution_count": 3,
   "metadata": {},
   "outputs": [],
   "source": [
    "import pandas as pd\n",
    "import numpy as np\n",
    "import matplotlib.pyplot as plt\n",
    "%matplotlib inline"
   ]
  },
  {
   "cell_type": "code",
   "execution_count": 4,
   "metadata": {
    "collapsed": true
   },
   "outputs": [],
   "source": [
    "df = pd.read_csv(\"D:\\\\hackveda\\\\LinearRegression\\\\Grade_Set_1.csv\")"
   ]
  },
  {
   "cell_type": "code",
   "execution_count": 5,
   "metadata": {},
   "outputs": [
    {
     "data": {
      "text/html": [
       "<div>\n",
       "<style>\n",
       "    .dataframe thead tr:only-child th {\n",
       "        text-align: right;\n",
       "    }\n",
       "\n",
       "    .dataframe thead th {\n",
       "        text-align: left;\n",
       "    }\n",
       "\n",
       "    .dataframe tbody tr th {\n",
       "        vertical-align: top;\n",
       "    }\n",
       "</style>\n",
       "<table border=\"1\" class=\"dataframe\">\n",
       "  <thead>\n",
       "    <tr style=\"text-align: right;\">\n",
       "      <th></th>\n",
       "      <th>Hours_Studied</th>\n",
       "      <th>Test_Grade</th>\n",
       "      <th>Status</th>\n",
       "      <th>Result</th>\n",
       "    </tr>\n",
       "  </thead>\n",
       "  <tbody>\n",
       "    <tr>\n",
       "      <th>0</th>\n",
       "      <td>2</td>\n",
       "      <td>57</td>\n",
       "      <td>fail</td>\n",
       "      <td>D</td>\n",
       "    </tr>\n",
       "    <tr>\n",
       "      <th>1</th>\n",
       "      <td>3</td>\n",
       "      <td>66</td>\n",
       "      <td>fail</td>\n",
       "      <td>D</td>\n",
       "    </tr>\n",
       "    <tr>\n",
       "      <th>2</th>\n",
       "      <td>4</td>\n",
       "      <td>73</td>\n",
       "      <td>pass</td>\n",
       "      <td>C</td>\n",
       "    </tr>\n",
       "    <tr>\n",
       "      <th>3</th>\n",
       "      <td>5</td>\n",
       "      <td>76</td>\n",
       "      <td>pass</td>\n",
       "      <td>C</td>\n",
       "    </tr>\n",
       "    <tr>\n",
       "      <th>4</th>\n",
       "      <td>6</td>\n",
       "      <td>79</td>\n",
       "      <td>pass</td>\n",
       "      <td>C</td>\n",
       "    </tr>\n",
       "    <tr>\n",
       "      <th>5</th>\n",
       "      <td>7</td>\n",
       "      <td>81</td>\n",
       "      <td>pass</td>\n",
       "      <td>B</td>\n",
       "    </tr>\n",
       "    <tr>\n",
       "      <th>6</th>\n",
       "      <td>8</td>\n",
       "      <td>90</td>\n",
       "      <td>pass</td>\n",
       "      <td>B</td>\n",
       "    </tr>\n",
       "    <tr>\n",
       "      <th>7</th>\n",
       "      <td>9</td>\n",
       "      <td>96</td>\n",
       "      <td>pass</td>\n",
       "      <td>A</td>\n",
       "    </tr>\n",
       "    <tr>\n",
       "      <th>8</th>\n",
       "      <td>10</td>\n",
       "      <td>100</td>\n",
       "      <td>pass</td>\n",
       "      <td>A</td>\n",
       "    </tr>\n",
       "  </tbody>\n",
       "</table>\n",
       "</div>"
      ],
      "text/plain": [
       "   Hours_Studied  Test_Grade Status Result\n",
       "0              2          57   fail      D\n",
       "1              3          66   fail      D\n",
       "2              4          73   pass      C\n",
       "3              5          76   pass      C\n",
       "4              6          79   pass      C\n",
       "5              7          81   pass      B\n",
       "6              8          90   pass      B\n",
       "7              9          96   pass      A\n",
       "8             10         100   pass      A"
      ]
     },
     "execution_count": 5,
     "metadata": {},
     "output_type": "execute_result"
    }
   ],
   "source": [
    "df"
   ]
  },
  {
   "cell_type": "code",
   "execution_count": 6,
   "metadata": {},
   "outputs": [
    {
     "data": {
      "text/plain": [
       "array([[ 1,  1,  1],\n",
       "       [ 4,  2,  1],\n",
       "       [ 9,  3,  1],\n",
       "       [25,  5,  1]])"
      ]
     },
     "execution_count": 6,
     "metadata": {},
     "output_type": "execute_result"
    }
   ],
   "source": [
    "#Vendarmode Matrix\n",
    "#1D Array\n",
    "x = np.array([1,2,3,5])\n",
    "#degree\n",
    "n = 3\n",
    "np.vander(x,n)\n",
    "\n",
    "#first column = x ^ n-1\n",
    "#second column = x ^ n-2\n",
    "#third column = x ^ n-3\n",
    "#and so on"
   ]
  },
  {
   "cell_type": "code",
   "execution_count": 8,
   "metadata": {},
   "outputs": [
    {
     "data": {
      "text/plain": [
       "array([[  4,   2,   1],\n",
       "       [  9,   3,   1],\n",
       "       [ 16,   4,   1],\n",
       "       [ 25,   5,   1],\n",
       "       [ 36,   6,   1],\n",
       "       [ 49,   7,   1],\n",
       "       [ 64,   8,   1],\n",
       "       [ 81,   9,   1],\n",
       "       [100,  10,   1]], dtype=int64)"
      ]
     },
     "execution_count": 8,
     "metadata": {},
     "output_type": "execute_result"
    }
   ],
   "source": [
    "#Polynomial Regression\n",
    "#Vandermode Matrix\n",
    "\n",
    "x = df.Hours_Studied.values\n",
    "y = df.Test_Grade.values\n",
    "n= 3\n",
    "np.vander(x,n)"
   ]
  },
  {
   "cell_type": "code",
   "execution_count": 9,
   "metadata": {},
   "outputs": [
    {
     "name": "stdout",
     "output_type": "stream",
     "text": [
      "R sqaure is  0.97574310741\n",
      "R sqaure is  0.975866422492\n",
      "R sqaure is  0.986228805657\n",
      "R sqaure is  0.994699513582\n"
     ]
    },
    {
     "data": {
      "image/png": "[encoded data removed]",
      "text/plain": [
       "<matplotlib.figure.Figure at 0x23055cf2278>"
      ]
     },
     "metadata": {},
     "output_type": "display_data"
    }
   ],
   "source": [
    "import sklearn.linear_model as lm\n",
    "from sklearn.metrics import r2_score\n",
    "lr = lm.LinearRegression()\n",
    "\n",
    "for deg in [2,3,4,5]:\n",
    "    lr.fit(np.vander(x,deg), y)\n",
    "    ypred = lr.predict(np.vander(x,deg))\n",
    "    df[\"degree\"+ str(deg)] = ypred\n",
    "    plt.plot(x,ypred)\n",
    "    print(\"R sqaure is \", r2_score(y,ypred))"
   ]
  },
  {
   "cell_type": "code",
   "execution_count": 10,
   "metadata": {},
   "outputs": [
    {
     "data": {
      "text/html": [
       "<div>\n",
       "<style>\n",
       "    .dataframe thead tr:only-child th {\n",
       "        text-align: right;\n",
       "    }\n",
       "\n",
       "    .dataframe thead th {\n",
       "        text-align: left;\n",
       "    }\n",
       "\n",
       "    .dataframe tbody tr th {\n",
       "        vertical-align: top;\n",
       "    }\n",
       "</style>\n",
       "<table border=\"1\" class=\"dataframe\">\n",
       "  <thead>\n",
       "    <tr style=\"text-align: right;\">\n",
       "      <th></th>\n",
       "      <th>Hours_Studied</th>\n",
       "      <th>Test_Grade</th>\n",
       "      <th>Status</th>\n",
       "      <th>Result</th>\n",
       "      <th>degree2</th>\n",
       "      <th>degree3</th>\n",
       "      <th>degree4</th>\n",
       "      <th>degree5</th>\n",
       "    </tr>\n",
       "  </thead>\n",
       "  <tbody>\n",
       "    <tr>\n",
       "      <th>0</th>\n",
       "      <td>2</td>\n",
       "      <td>57</td>\n",
       "      <td>fail</td>\n",
       "      <td>D</td>\n",
       "      <td>59.711111</td>\n",
       "      <td>59.478788</td>\n",
       "      <td>57.696970</td>\n",
       "      <td>56.564103</td>\n",
       "    </tr>\n",
       "    <tr>\n",
       "      <th>1</th>\n",
       "      <td>3</td>\n",
       "      <td>66</td>\n",
       "      <td>fail</td>\n",
       "      <td>D</td>\n",
       "      <td>64.727778</td>\n",
       "      <td>64.669697</td>\n",
       "      <td>65.560606</td>\n",
       "      <td>67.259907</td>\n",
       "    </tr>\n",
       "    <tr>\n",
       "      <th>2</th>\n",
       "      <td>4</td>\n",
       "      <td>73</td>\n",
       "      <td>pass</td>\n",
       "      <td>C</td>\n",
       "      <td>69.744444</td>\n",
       "      <td>69.810823</td>\n",
       "      <td>71.465368</td>\n",
       "      <td>72.355478</td>\n",
       "    </tr>\n",
       "    <tr>\n",
       "      <th>3</th>\n",
       "      <td>5</td>\n",
       "      <td>76</td>\n",
       "      <td>pass</td>\n",
       "      <td>C</td>\n",
       "      <td>74.761111</td>\n",
       "      <td>74.902165</td>\n",
       "      <td>76.047619</td>\n",
       "      <td>75.319347</td>\n",
       "    </tr>\n",
       "    <tr>\n",
       "      <th>4</th>\n",
       "      <td>6</td>\n",
       "      <td>79</td>\n",
       "      <td>pass</td>\n",
       "      <td>C</td>\n",
       "      <td>79.777778</td>\n",
       "      <td>79.943723</td>\n",
       "      <td>79.943723</td>\n",
       "      <td>78.487179</td>\n",
       "    </tr>\n",
       "    <tr>\n",
       "      <th>5</th>\n",
       "      <td>7</td>\n",
       "      <td>81</td>\n",
       "      <td>pass</td>\n",
       "      <td>B</td>\n",
       "      <td>84.794444</td>\n",
       "      <td>84.935498</td>\n",
       "      <td>83.790043</td>\n",
       "      <td>83.061772</td>\n",
       "    </tr>\n",
       "    <tr>\n",
       "      <th>6</th>\n",
       "      <td>8</td>\n",
       "      <td>90</td>\n",
       "      <td>pass</td>\n",
       "      <td>B</td>\n",
       "      <td>89.811111</td>\n",
       "      <td>89.877489</td>\n",
       "      <td>88.222944</td>\n",
       "      <td>89.113054</td>\n",
       "    </tr>\n",
       "    <tr>\n",
       "      <th>7</th>\n",
       "      <td>9</td>\n",
       "      <td>96</td>\n",
       "      <td>pass</td>\n",
       "      <td>A</td>\n",
       "      <td>94.827778</td>\n",
       "      <td>94.769697</td>\n",
       "      <td>93.878788</td>\n",
       "      <td>95.578089</td>\n",
       "    </tr>\n",
       "    <tr>\n",
       "      <th>8</th>\n",
       "      <td>10</td>\n",
       "      <td>100</td>\n",
       "      <td>pass</td>\n",
       "      <td>A</td>\n",
       "      <td>99.844444</td>\n",
       "      <td>99.612121</td>\n",
       "      <td>101.393939</td>\n",
       "      <td>100.261072</td>\n",
       "    </tr>\n",
       "  </tbody>\n",
       "</table>\n",
       "</div>"
      ],
      "text/plain": [
       "   Hours_Studied  Test_Grade Status Result    degree2    degree3     degree4  \\\n",
       "0              2          57   fail      D  59.711111  59.478788   57.696970   \n",
       "1              3          66   fail      D  64.727778  64.669697   65.560606   \n",
       "2              4          73   pass      C  69.744444  69.810823   71.465368   \n",
       "3              5          76   pass      C  74.761111  74.902165   76.047619   \n",
       "4              6          79   pass      C  79.777778  79.943723   79.943723   \n",
       "5              7          81   pass      B  84.794444  84.935498   83.790043   \n",
       "6              8          90   pass      B  89.811111  89.877489   88.222944   \n",
       "7              9          96   pass      A  94.827778  94.769697   93.878788   \n",
       "8             10         100   pass      A  99.844444  99.612121  101.393939   \n",
       "\n",
       "      degree5  \n",
       "0   56.564103  \n",
       "1   67.259907  \n",
       "2   72.355478  \n",
       "3   75.319347  \n",
       "4   78.487179  \n",
       "5   83.061772  \n",
       "6   89.113054  \n",
       "7   95.578089  \n",
       "8  100.261072  "
      ]
     },
     "execution_count": 10,
     "metadata": {},
     "output_type": "execute_result"
    }
   ],
   "source": [
    "df"
   ]
  },
  {
   "cell_type": "code",
   "execution_count": null,
   "metadata": {
    "collapsed": true
   },
   "outputs": [],
   "source": []
  }
 ],
 "metadata": {
  "kernelspec": {
   "display_name": "Python 3",
   "language": "python",
   "name": "python3"
  },
  "language_info": {
   "codemirror_mode": {
    "name": "ipython",
    "version": 3
   },
   "file_extension": ".py",
   "mimetype": "text/x-python",
   "name": "python",
   "nbconvert_exporter": "python",
   "pygments_lexer": "ipython3",
   "version": "3.6.1"
  }
 },
 "nbformat": 4,
 "nbformat_minor": 2
}
