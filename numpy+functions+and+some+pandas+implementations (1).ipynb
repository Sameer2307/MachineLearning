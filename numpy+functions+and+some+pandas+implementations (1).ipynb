{
 "cells": [
  {
   "cell_type": "code",
   "execution_count": 1,
   "metadata": {},
   "outputs": [
    {
     "name": "stdout",
     "output_type": "stream",
     "text": [
      "[[ 1.  0.  0.]\n",
      " [ 0.  1.  0.]\n",
      " [ 0.  0.  1.]]\n"
     ]
    }
   ],
   "source": [
    "#numpy \n",
    "\n",
    "import numpy as np\n",
    "\n",
    "\n",
    "print (np. identity(3))   #to print identity matrix but values are float"
   ]
  },
  {
   "cell_type": "code",
   "execution_count": 2,
   "metadata": {
    "collapsed": true
   },
   "outputs": [],
   "source": [
    "#to make value as int"
   ]
  },
  {
   "cell_type": "code",
   "execution_count": 3,
   "metadata": {},
   "outputs": [
    {
     "name": "stdout",
     "output_type": "stream",
     "text": [
      "[[ 1.  0.  0.]\n",
      " [ 0.  1.  0.]\n",
      " [ 0.  0.  1.]]\n",
      "float64\n"
     ]
    }
   ],
   "source": [
    "y = np.identity(3)\n",
    "print (y)\n",
    "print(y.dtype)"
   ]
  },
  {
   "cell_type": "code",
   "execution_count": null,
   "metadata": {
    "collapsed": true
   },
   "outputs": [],
   "source": []
  },
  {
   "cell_type": "code",
   "execution_count": 4,
   "metadata": {},
   "outputs": [
    {
     "name": "stdout",
     "output_type": "stream",
     "text": [
      "[[1 0 0]\n",
      " [0 1 0]\n",
      " [0 0 1]]\n",
      "int32\n"
     ]
    }
   ],
   "source": [
    "x = y.astype(int)  # astype is used to convert the values\n",
    "print(x)\n",
    "print (x.dtype)"
   ]
  },
  {
   "cell_type": "code",
   "execution_count": 5,
   "metadata": {
    "collapsed": true
   },
   "outputs": [],
   "source": [
    "#to create a random matrix with random values from low to high"
   ]
  },
  {
   "cell_type": "code",
   "execution_count": 6,
   "metadata": {},
   "outputs": [
    {
     "name": "stdout",
     "output_type": "stream",
     "text": [
      "[[ 9 10  6]\n",
      " [ 9 10  8]\n",
      " [ 5  7  9]]\n"
     ]
    }
   ],
   "source": [
    "print (np.random.randint(5,11,size=(3,3)))"
   ]
  },
  {
   "cell_type": "code",
   "execution_count": 7,
   "metadata": {
    "collapsed": true
   },
   "outputs": [],
   "source": [
    "#numpy.arange"
   ]
  },
  {
   "cell_type": "code",
   "execution_count": 8,
   "metadata": {},
   "outputs": [
    {
     "name": "stdout",
     "output_type": "stream",
     "text": [
      "[0 1 2 3 4 5 6 7 8 9]\n"
     ]
    }
   ],
   "source": [
    "print(np.arange(10))  #n-1 values will be printed"
   ]
  },
  {
   "cell_type": "code",
   "execution_count": 9,
   "metadata": {},
   "outputs": [
    {
     "name": "stdout",
     "output_type": "stream",
     "text": [
      "[ 1  2  3  4  5  6  7  8  9 10]\n"
     ]
    }
   ],
   "source": [
    "print(np.arange(1,11))  # this is used to include 1 and remove 11"
   ]
  },
  {
   "cell_type": "code",
   "execution_count": 10,
   "metadata": {},
   "outputs": [
    {
     "name": "stdout",
     "output_type": "stream",
     "text": [
      "[ 1  4  7 10 13 16 19]\n"
     ]
    }
   ],
   "source": [
    "print (np.arange(1,21,3))  # so 3 is gap 1 is included and 21 is excluded "
   ]
  },
  {
   "cell_type": "code",
   "execution_count": 11,
   "metadata": {},
   "outputs": [
    {
     "name": "stdout",
     "output_type": "stream",
     "text": [
      "[ 1.  2.  3.  4.  5.  6.  7.  8.  9.]\n"
     ]
    }
   ],
   "source": [
    "print (np.arange(1,10, dtype=np.float)) # DEFAULT DATA TYPE OF INTEGER IS CHANGED TO FLOAT"
   ]
  },
  {
   "cell_type": "code",
   "execution_count": 12,
   "metadata": {
    "collapsed": true
   },
   "outputs": [],
   "source": [
    "#numpy.linspace    returns number spaces \n"
   ]
  },
  {
   "cell_type": "code",
   "execution_count": 13,
   "metadata": {},
   "outputs": [
    {
     "name": "stdout",
     "output_type": "stream",
     "text": [
      "[  1.   25.5  50. ]\n"
     ]
    }
   ],
   "source": [
    "print(np.linspace(1,50,num=3))  #so interval is created at total values of 3"
   ]
  },
  {
   "cell_type": "code",
   "execution_count": 14,
   "metadata": {
    "collapsed": true
   },
   "outputs": [],
   "source": [
    "#numpu.indices   #tells the indedxes"
   ]
  },
  {
   "cell_type": "code",
   "execution_count": 15,
   "metadata": {},
   "outputs": [
    {
     "name": "stdout",
     "output_type": "stream",
     "text": [
      "[[[0 0 0 0]\n",
      "  [1 1 1 1]\n",
      "  [2 2 2 2]]\n",
      "\n",
      " [[0 1 2 3]\n",
      "  [0 1 2 3]\n",
      "  [0 1 2 3]]]\n"
     ]
    }
   ],
   "source": [
    "print(np.indices((3,4)))"
   ]
  },
  {
   "cell_type": "code",
   "execution_count": 16,
   "metadata": {
    "collapsed": true
   },
   "outputs": [],
   "source": [
    "# Datatypes in numpy "
   ]
  },
  {
   "cell_type": "code",
   "execution_count": 17,
   "metadata": {},
   "outputs": [
    {
     "name": "stdout",
     "output_type": "stream",
     "text": [
      "<class 'numpy.ndarray'>\n",
      "data type of x array is int32\n",
      "data type of y array is float64\n"
     ]
    }
   ],
   "source": [
    "x = np.array ([1,2,3,4,5])\n",
    "y = np.array([1.,2.,3.,4.,5.])\n",
    "type(x)\n",
    "print (type(x))\n",
    "print(\"data type of x array is\", x.dtype)\n",
    "print(\"data type of y array is\", y.dtype)"
   ]
  },
  {
   "cell_type": "code",
   "execution_count": 18,
   "metadata": {},
   "outputs": [
    {
     "name": "stdout",
     "output_type": "stream",
     "text": [
      "[ 1.  2.  3.  4.  5.]\n"
     ]
    }
   ],
   "source": [
    "z = np.array([1,2,3,4,5], dtype=np.float)# forcefully changinhg the value to float and for float 32 do it float32\n",
    "print(z)"
   ]
  },
  {
   "cell_type": "code",
   "execution_count": 19,
   "metadata": {
    "collapsed": true
   },
   "outputs": [],
   "source": [
    "#numpy. reshape"
   ]
  },
  {
   "cell_type": "code",
   "execution_count": 20,
   "metadata": {},
   "outputs": [
    {
     "name": "stdout",
     "output_type": "stream",
     "text": [
      "[0 1 2 3 4 5]\n"
     ]
    }
   ],
   "source": [
    "a = np.arange(6)\n",
    "print(a)"
   ]
  },
  {
   "cell_type": "code",
   "execution_count": 21,
   "metadata": {},
   "outputs": [
    {
     "data": {
      "text/plain": [
       "(6,)"
      ]
     },
     "execution_count": 21,
     "metadata": {},
     "output_type": "execute_result"
    }
   ],
   "source": [
    "a.shape # means there are 6 elemnts in 1d array "
   ]
  },
  {
   "cell_type": "code",
   "execution_count": 22,
   "metadata": {
    "collapsed": true
   },
   "outputs": [],
   "source": [
    "#reshape function "
   ]
  },
  {
   "cell_type": "code",
   "execution_count": 23,
   "metadata": {},
   "outputs": [
    {
     "data": {
      "text/plain": [
       "array([[0, 1],\n",
       "       [2, 3],\n",
       "       [4, 5]])"
      ]
     },
     "execution_count": 23,
     "metadata": {},
     "output_type": "execute_result"
    }
   ],
   "source": [
    "a.reshape((3,2))"
   ]
  },
  {
   "cell_type": "code",
   "execution_count": 24,
   "metadata": {},
   "outputs": [
    {
     "data": {
      "text/plain": [
       "array([[0, 1, 2],\n",
       "       [3, 4, 5]])"
      ]
     },
     "execution_count": 24,
     "metadata": {},
     "output_type": "execute_result"
    }
   ],
   "source": [
    "a.reshape((2,3))"
   ]
  },
  {
   "cell_type": "code",
   "execution_count": 25,
   "metadata": {},
   "outputs": [
    {
     "data": {
      "text/plain": [
       "array([[0],\n",
       "       [1],\n",
       "       [2],\n",
       "       [3],\n",
       "       [4],\n",
       "       [5]])"
      ]
     },
     "execution_count": 25,
     "metadata": {},
     "output_type": "execute_result"
    }
   ],
   "source": [
    "a.reshape((6,1))"
   ]
  },
  {
   "cell_type": "code",
   "execution_count": 26,
   "metadata": {},
   "outputs": [
    {
     "name": "stdout",
     "output_type": "stream",
     "text": [
      "[[1 2 3]\n",
      " [4 5 6]]\n"
     ]
    }
   ],
   "source": [
    "twod = np.array([[1,2,3],[4,5,6]])\n",
    "print (twod)"
   ]
  },
  {
   "cell_type": "code",
   "execution_count": 27,
   "metadata": {},
   "outputs": [
    {
     "data": {
      "text/plain": [
       "(2, 3)"
      ]
     },
     "execution_count": 27,
     "metadata": {},
     "output_type": "execute_result"
    }
   ],
   "source": [
    "twod.shape"
   ]
  },
  {
   "cell_type": "code",
   "execution_count": 28,
   "metadata": {},
   "outputs": [
    {
     "data": {
      "text/plain": [
       "array([1, 2, 3, 4, 5, 6])"
      ]
     },
     "execution_count": 28,
     "metadata": {},
     "output_type": "execute_result"
    }
   ],
   "source": [
    "twod.reshape((6))"
   ]
  },
  {
   "cell_type": "code",
   "execution_count": 29,
   "metadata": {},
   "outputs": [
    {
     "data": {
      "text/plain": [
       "array([[1],\n",
       "       [2],\n",
       "       [3],\n",
       "       [4],\n",
       "       [5],\n",
       "       [6]])"
      ]
     },
     "execution_count": 29,
     "metadata": {},
     "output_type": "execute_result"
    }
   ],
   "source": [
    "twod.reshape((6,1))"
   ]
  },
  {
   "cell_type": "code",
   "execution_count": 30,
   "metadata": {},
   "outputs": [
    {
     "name": "stdout",
     "output_type": "stream",
     "text": [
      "[[0 1]\n",
      " [2 3]]\n"
     ]
    }
   ],
   "source": [
    "print(np.arange(4).reshape(2,2))"
   ]
  },
  {
   "cell_type": "code",
   "execution_count": 31,
   "metadata": {},
   "outputs": [
    {
     "name": "stdout",
     "output_type": "stream",
     "text": [
      "[[0 1]\n",
      " [2 3]]\n"
     ]
    }
   ],
   "source": [
    "a = np.arange(4).reshape(2,2)\n",
    "print (a)"
   ]
  },
  {
   "cell_type": "code",
   "execution_count": 32,
   "metadata": {},
   "outputs": [
    {
     "data": {
      "text/plain": [
       "array([[0, 2],\n",
       "       [1, 3]])"
      ]
     },
     "execution_count": 32,
     "metadata": {},
     "output_type": "execute_result"
    }
   ],
   "source": [
    "np.transpose(a) # makes the transpose of the array"
   ]
  },
  {
   "cell_type": "code",
   "execution_count": 33,
   "metadata": {
    "collapsed": true
   },
   "outputs": [],
   "source": [
    "#converting list into an array "
   ]
  },
  {
   "cell_type": "code",
   "execution_count": 34,
   "metadata": {},
   "outputs": [
    {
     "name": "stdout",
     "output_type": "stream",
     "text": [
      "[10, 20, 30, 40]\n"
     ]
    }
   ],
   "source": [
    "list = [10,20,30,40]\n",
    "print (list)"
   ]
  },
  {
   "cell_type": "code",
   "execution_count": 35,
   "metadata": {},
   "outputs": [
    {
     "name": "stdout",
     "output_type": "stream",
     "text": [
      "[10 20 30 40]\n"
     ]
    }
   ],
   "source": [
    "listarray = np.array(list)\n",
    "print(listarray)"
   ]
  },
  {
   "cell_type": "code",
   "execution_count": 36,
   "metadata": {
    "collapsed": true
   },
   "outputs": [],
   "source": [
    "#slicing"
   ]
  },
  {
   "cell_type": "code",
   "execution_count": 37,
   "metadata": {},
   "outputs": [
    {
     "name": "stdout",
     "output_type": "stream",
     "text": [
      "[1 2 3 4 5 6 7 8]\n",
      "[1 2 3 4 5]\n",
      "[1 2 3 4 5]\n",
      "[1 3 5]\n"
     ]
    }
   ],
   "source": [
    "a = np.array([1,2,3,4,5,6,7,8])\n",
    "print(a)\n",
    "print (a[:5])\n",
    "print (a[0:5])\n",
    "print(a[0:6:2]) #remove every 2 elements"
   ]
  },
  {
   "cell_type": "code",
   "execution_count": 38,
   "metadata": {},
   "outputs": [
    {
     "name": "stdout",
     "output_type": "stream",
     "text": [
      "[ 0  2  4  6  8 10 12 14 16 18 20 22 24 26 28 30 32 34 36 38 40 42 44 46 48\n",
      " 50]\n"
     ]
    }
   ],
   "source": [
    "a = np.arange(51)\n",
    "print(a[0::2])"
   ]
  },
  {
   "cell_type": "code",
   "execution_count": null,
   "metadata": {
    "collapsed": true
   },
   "outputs": [],
   "source": []
  },
  {
   "cell_type": "code",
   "execution_count": null,
   "metadata": {
    "collapsed": true
   },
   "outputs": [],
   "source": []
  },
  {
   "cell_type": "code",
   "execution_count": null,
   "metadata": {
    "collapsed": true
   },
   "outputs": [],
   "source": []
  },
  {
   "cell_type": "code",
   "execution_count": null,
   "metadata": {
    "collapsed": true
   },
   "outputs": [],
   "source": []
  },
  {
   "cell_type": "code",
   "execution_count": 39,
   "metadata": {
    "collapsed": true
   },
   "outputs": [],
   "source": [
    "\n",
    "import pandas as pd\n"
   ]
  },
  {
   "cell_type": "code",
   "execution_count": 40,
   "metadata": {
    "collapsed": true
   },
   "outputs": [],
   "source": [
    "# series"
   ]
  },
  {
   "cell_type": "code",
   "execution_count": 41,
   "metadata": {},
   "outputs": [
    {
     "name": "stdout",
     "output_type": "stream",
     "text": [
      "[1 2 3 4 5 6]\n"
     ]
    }
   ],
   "source": [
    "data = np.array([1,2,3,4,5,6])\n",
    "print(data)"
   ]
  },
  {
   "cell_type": "code",
   "execution_count": 42,
   "metadata": {},
   "outputs": [
    {
     "name": "stdout",
     "output_type": "stream",
     "text": [
      "0    1\n",
      "1    2\n",
      "2    3\n",
      "3    4\n",
      "4    5\n",
      "5    6\n",
      "dtype: int32\n"
     ]
    }
   ],
   "source": [
    "s = pd.Series(data)\n",
    "print(s)                   # thisgives us the labelled array"
   ]
  },
  {
   "cell_type": "code",
   "execution_count": 43,
   "metadata": {},
   "outputs": [
    {
     "name": "stdout",
     "output_type": "stream",
     "text": [
      "0    a\n",
      "1    b\n",
      "2    c\n",
      "3    d\n",
      "4    e\n",
      "5    f\n",
      "dtype: object\n"
     ]
    }
   ],
   "source": [
    "data = np.array(['a','b','c','d','e','f'])\n",
    "s = pd.Series(data)\n",
    "print(s)\n"
   ]
  },
  {
   "cell_type": "code",
   "execution_count": 44,
   "metadata": {},
   "outputs": [
    {
     "name": "stdout",
     "output_type": "stream",
     "text": [
      "100    a\n",
      "200    b\n",
      "300    c\n",
      "400    d\n",
      "500    e\n",
      "600    f\n",
      "dtype: object\n"
     ]
    }
   ],
   "source": [
    "s = pd.Series(data,index=[100,200,300,400,500,600])\n",
    "print(s)"
   ]
  },
  {
   "cell_type": "code",
   "execution_count": 45,
   "metadata": {
    "collapsed": true
   },
   "outputs": [],
   "source": [
    "#dataframe"
   ]
  },
  {
   "cell_type": "code",
   "execution_count": 46,
   "metadata": {
    "collapsed": true
   },
   "outputs": [],
   "source": [
    "mydata = {'gender':['M','F','M'], 'emp_id':[1,2,3], 'age' :[27,22,21]}"
   ]
  },
  {
   "cell_type": "code",
   "execution_count": 47,
   "metadata": {},
   "outputs": [
    {
     "name": "stdout",
     "output_type": "stream",
     "text": [
      "   emp_id  age gender\n",
      "0       1   27      M\n",
      "1       2   22      F\n",
      "2       3   21      M\n"
     ]
    }
   ],
   "source": [
    "df = pd.DataFrame(mydata, columns = ['emp_id', 'age', 'gender'])\n",
    "print(df)"
   ]
  },
  {
   "cell_type": "code",
   "execution_count": 48,
   "metadata": {},
   "outputs": [
    {
     "name": "stdout",
     "output_type": "stream",
     "text": [
      "     Unnamed: 0  Sepal.Length  Sepal.Width  Petal.Length  Petal.Width  \\\n",
      "0             1           5.1          3.5           1.4          0.2   \n",
      "1             2           4.9          3.0           1.4          0.2   \n",
      "2             3           4.7          3.2           1.3          0.2   \n",
      "3             4           4.6          3.1           1.5          0.2   \n",
      "4             5           5.0          3.6           1.4          0.2   \n",
      "5             6           5.4          3.9           1.7          0.4   \n",
      "6             7           4.6          3.4           1.4          0.3   \n",
      "7             8           5.0          3.4           1.5          0.2   \n",
      "8             9           4.4          2.9           1.4          0.2   \n",
      "9            10           4.9          3.1           1.5          0.1   \n",
      "10           11           5.4          3.7           1.5          0.2   \n",
      "11           12           4.8          3.4           1.6          0.2   \n",
      "12           13           4.8          3.0           1.4          0.1   \n",
      "13           14           4.3          3.0           1.1          0.1   \n",
      "14           15           5.8          4.0           1.2          0.2   \n",
      "15           16           5.7          4.4           1.5          0.4   \n",
      "16           17           5.4          3.9           1.3          0.4   \n",
      "17           18           5.1          3.5           1.4          0.3   \n",
      "18           19           5.7          3.8           1.7          0.3   \n",
      "19           20           5.1          3.8           1.5          0.3   \n",
      "20           21           5.4          3.4           1.7          0.2   \n",
      "21           22           5.1          3.7           1.5          0.4   \n",
      "22           23           4.6          3.6           1.0          0.2   \n",
      "23           24           5.1          3.3           1.7          0.5   \n",
      "24           25           4.8          3.4           1.9          0.2   \n",
      "25           26           5.0          3.0           1.6          0.2   \n",
      "26           27           5.0          3.4           1.6          0.4   \n",
      "27           28           5.2          3.5           1.5          0.2   \n",
      "28           29           5.2          3.4           1.4          0.2   \n",
      "29           30           4.7          3.2           1.6          0.2   \n",
      "..          ...           ...          ...           ...          ...   \n",
      "120         121           6.9          3.2           5.7          2.3   \n",
      "121         122           5.6          2.8           4.9          2.0   \n",
      "122         123           7.7          2.8           6.7          2.0   \n",
      "123         124           6.3          2.7           4.9          1.8   \n",
      "124         125           6.7          3.3           5.7          2.1   \n",
      "125         126           7.2          3.2           6.0          1.8   \n",
      "126         127           6.2          2.8           4.8          1.8   \n",
      "127         128           6.1          3.0           4.9          1.8   \n",
      "128         129           6.4          2.8           5.6          2.1   \n",
      "129         130           7.2          3.0           5.8          1.6   \n",
      "130         131           7.4          2.8           6.1          1.9   \n",
      "131         132           7.9          3.8           6.4          2.0   \n",
      "132         133           6.4          2.8           5.6          2.2   \n",
      "133         134           6.3          2.8           5.1          1.5   \n",
      "134         135           6.1          2.6           5.6          1.4   \n",
      "135         136           7.7          3.0           6.1          2.3   \n",
      "136         137           6.3          3.4           5.6          2.4   \n",
      "137         138           6.4          3.1           5.5          1.8   \n",
      "138         139           6.0          3.0           4.8          1.8   \n",
      "139         140           6.9          3.1           5.4          2.1   \n",
      "140         141           6.7          3.1           5.6          2.4   \n",
      "141         142           6.9          3.1           5.1          2.3   \n",
      "142         143           5.8          2.7           5.1          1.9   \n",
      "143         144           6.8          3.2           5.9          2.3   \n",
      "144         145           6.7          3.3           5.7          2.5   \n",
      "145         146           6.7          3.0           5.2          2.3   \n",
      "146         147           6.3          2.5           5.0          1.9   \n",
      "147         148           6.5          3.0           5.2          2.0   \n",
      "148         149           6.2          3.4           5.4          2.3   \n",
      "149         150           5.9          3.0           5.1          1.8   \n",
      "\n",
      "       Species  \n",
      "0       setosa  \n",
      "1       setosa  \n",
      "2       setosa  \n",
      "3       setosa  \n",
      "4       setosa  \n",
      "5       setosa  \n",
      "6       setosa  \n",
      "7       setosa  \n",
      "8       setosa  \n",
      "9       setosa  \n",
      "10      setosa  \n",
      "11      setosa  \n",
      "12      setosa  \n",
      "13      setosa  \n",
      "14      setosa  \n",
      "15      setosa  \n",
      "16      setosa  \n",
      "17      setosa  \n",
      "18      setosa  \n",
      "19      setosa  \n",
      "20      setosa  \n",
      "21      setosa  \n",
      "22      setosa  \n",
      "23      setosa  \n",
      "24      setosa  \n",
      "25      setosa  \n",
      "26      setosa  \n",
      "27      setosa  \n",
      "28      setosa  \n",
      "29      setosa  \n",
      "..         ...  \n",
      "120  virginica  \n",
      "121  virginica  \n",
      "122  virginica  \n",
      "123  virginica  \n",
      "124  virginica  \n",
      "125  virginica  \n",
      "126  virginica  \n",
      "127  virginica  \n",
      "128  virginica  \n",
      "129  virginica  \n",
      "130  virginica  \n",
      "131  virginica  \n",
      "132  virginica  \n",
      "133  virginica  \n",
      "134  virginica  \n",
      "135  virginica  \n",
      "136  virginica  \n",
      "137  virginica  \n",
      "138  virginica  \n",
      "139  virginica  \n",
      "140  virginica  \n",
      "141  virginica  \n",
      "142  virginica  \n",
      "143  virginica  \n",
      "144  virginica  \n",
      "145  virginica  \n",
      "146  virginica  \n",
      "147  virginica  \n",
      "148  virginica  \n",
      "149  virginica  \n",
      "\n",
      "[150 rows x 6 columns]\n"
     ]
    }
   ],
   "source": [
    "#Read a csv file \n",
    "df = pd.read_csv(\"D:\\\\hackveda\\\\data.csv\")\n",
    "print(df)"
   ]
  },
  {
   "cell_type": "code",
   "execution_count": 49,
   "metadata": {},
   "outputs": [
    {
     "name": "stdout",
     "output_type": "stream",
     "text": [
      "     Sepal.Length  Sepal.Width  Petal.Length  Petal.Width    Species\n",
      "0             5.1          3.5           1.4          0.2     setosa\n",
      "1             4.9          3.0           1.4          0.2     setosa\n",
      "2             4.7          3.2           1.3          0.2     setosa\n",
      "3             4.6          3.1           1.5          0.2     setosa\n",
      "4             5.0          3.6           1.4          0.2     setosa\n",
      "5             5.4          3.9           1.7          0.4     setosa\n",
      "6             4.6          3.4           1.4          0.3     setosa\n",
      "7             5.0          3.4           1.5          0.2     setosa\n",
      "8             4.4          2.9           1.4          0.2     setosa\n",
      "9             4.9          3.1           1.5          0.1     setosa\n",
      "10            5.4          3.7           1.5          0.2     setosa\n",
      "11            4.8          3.4           1.6          0.2     setosa\n",
      "12            4.8          3.0           1.4          0.1     setosa\n",
      "13            4.3          3.0           1.1          0.1     setosa\n",
      "14            5.8          4.0           1.2          0.2     setosa\n",
      "15            5.7          4.4           1.5          0.4     setosa\n",
      "16            5.4          3.9           1.3          0.4     setosa\n",
      "17            5.1          3.5           1.4          0.3     setosa\n",
      "18            5.7          3.8           1.7          0.3     setosa\n",
      "19            5.1          3.8           1.5          0.3     setosa\n",
      "20            5.4          3.4           1.7          0.2     setosa\n",
      "21            5.1          3.7           1.5          0.4     setosa\n",
      "22            4.6          3.6           1.0          0.2     setosa\n",
      "23            5.1          3.3           1.7          0.5     setosa\n",
      "24            4.8          3.4           1.9          0.2     setosa\n",
      "25            5.0          3.0           1.6          0.2     setosa\n",
      "26            5.0          3.4           1.6          0.4     setosa\n",
      "27            5.2          3.5           1.5          0.2     setosa\n",
      "28            5.2          3.4           1.4          0.2     setosa\n",
      "29            4.7          3.2           1.6          0.2     setosa\n",
      "..            ...          ...           ...          ...        ...\n",
      "120           6.9          3.2           5.7          2.3  virginica\n",
      "121           5.6          2.8           4.9          2.0  virginica\n",
      "122           7.7          2.8           6.7          2.0  virginica\n",
      "123           6.3          2.7           4.9          1.8  virginica\n",
      "124           6.7          3.3           5.7          2.1  virginica\n",
      "125           7.2          3.2           6.0          1.8  virginica\n",
      "126           6.2          2.8           4.8          1.8  virginica\n",
      "127           6.1          3.0           4.9          1.8  virginica\n",
      "128           6.4          2.8           5.6          2.1  virginica\n",
      "129           7.2          3.0           5.8          1.6  virginica\n",
      "130           7.4          2.8           6.1          1.9  virginica\n",
      "131           7.9          3.8           6.4          2.0  virginica\n",
      "132           6.4          2.8           5.6          2.2  virginica\n",
      "133           6.3          2.8           5.1          1.5  virginica\n",
      "134           6.1          2.6           5.6          1.4  virginica\n",
      "135           7.7          3.0           6.1          2.3  virginica\n",
      "136           6.3          3.4           5.6          2.4  virginica\n",
      "137           6.4          3.1           5.5          1.8  virginica\n",
      "138           6.0          3.0           4.8          1.8  virginica\n",
      "139           6.9          3.1           5.4          2.1  virginica\n",
      "140           6.7          3.1           5.6          2.4  virginica\n",
      "141           6.9          3.1           5.1          2.3  virginica\n",
      "142           5.8          2.7           5.1          1.9  virginica\n",
      "143           6.8          3.2           5.9          2.3  virginica\n",
      "144           6.7          3.3           5.7          2.5  virginica\n",
      "145           6.7          3.0           5.2          2.3  virginica\n",
      "146           6.3          2.5           5.0          1.9  virginica\n",
      "147           6.5          3.0           5.2          2.0  virginica\n",
      "148           6.2          3.4           5.4          2.3  virginica\n",
      "149           5.9          3.0           5.1          1.8  virginica\n",
      "\n",
      "[150 rows x 5 columns]\n"
     ]
    }
   ],
   "source": [
    "#csv format --> Text Format \n",
    "df1 = pd.read_csv(\"D:\\\\hackveda\\\\iris.txt\", sep = \"\\t\")\n",
    "print(df1)"
   ]
  },
  {
   "cell_type": "code",
   "execution_count": 50,
   "metadata": {},
   "outputs": [
    {
     "name": "stdout",
     "output_type": "stream",
     "text": [
      "                  model   mpg  cyl   disp   hp  drat     wt   qsec  vs  am  \\\n",
      "0             Mazda RX4  21.0    6  160.0  110  3.90  2.620  16.46   0   1   \n",
      "1         Mazda RX4 Wag  21.0    6  160.0  110  3.90  2.875  17.02   0   1   \n",
      "2            Datsun 710  22.8    4  108.0   93  3.85  2.320  18.61   1   1   \n",
      "3        Hornet 4 Drive  21.4    6  258.0  110  3.08  3.215  19.44   1   0   \n",
      "4     Hornet Sportabout  18.7    8  360.0  175  3.15  3.440  17.02   0   0   \n",
      "5               Valiant  18.1    6  225.0  105  2.76  3.460  20.22   1   0   \n",
      "6            Duster 360  14.3    8  360.0  245  3.21  3.570  15.84   0   0   \n",
      "7             Merc 240D  24.4    4  146.7   62  3.69  3.190  20.00   1   0   \n",
      "8              Merc 230  22.8    4  140.8   95  3.92  3.150  22.90   1   0   \n",
      "9              Merc 280  19.2    6  167.6  123  3.92  3.440  18.30   1   0   \n",
      "10            Merc 280C  17.8    6  167.6  123  3.92  3.440  18.90   1   0   \n",
      "11           Merc 450SE  16.4    8  275.8  180  3.07  4.070  17.40   0   0   \n",
      "12           Merc 450SL  17.3    8  275.8  180  3.07  3.730  17.60   0   0   \n",
      "13          Merc 450SLC  15.2    8  275.8  180  3.07  3.780  18.00   0   0   \n",
      "14   Cadillac Fleetwood  10.4    8  472.0  205  2.93  5.250  17.98   0   0   \n",
      "15  Lincoln Continental  10.4    8  460.0  215  3.00  5.424  17.82   0   0   \n",
      "16    Chrysler Imperial  14.7    8  440.0  230  3.23  5.345  17.42   0   0   \n",
      "17             Fiat 128  32.4    4   78.7   66  4.08  2.200  19.47   1   1   \n",
      "18          Honda Civic  30.4    4   75.7   52  4.93  1.615  18.52   1   1   \n",
      "19       Toyota Corolla  33.9    4   71.1   65  4.22  1.835  19.90   1   1   \n",
      "20        Toyota Corona  21.5    4  120.1   97  3.70  2.465  20.01   1   0   \n",
      "21     Dodge Challenger  15.5    8  318.0  150  2.76  3.520  16.87   0   0   \n",
      "22          AMC Javelin  15.2    8  304.0  150  3.15  3.435  17.30   0   0   \n",
      "23           Camaro Z28  13.3    8  350.0  245  3.73  3.840  15.41   0   0   \n",
      "24     Pontiac Firebird  19.2    8  400.0  175  3.08  3.845  17.05   0   0   \n",
      "25            Fiat X1-9  27.3    4   79.0   66  4.08  1.935  18.90   1   1   \n",
      "26        Porsche 914-2  26.0    4  120.3   91  4.43  2.140  16.70   0   1   \n",
      "27         Lotus Europa  30.4    4   95.1  113  3.77  1.513  16.90   1   1   \n",
      "28       Ford Pantera L  15.8    8  351.0  264  4.22  3.170  14.50   0   1   \n",
      "29         Ferrari Dino  19.7    6  145.0  175  3.62  2.770  15.50   0   1   \n",
      "30        Maserati Bora  15.0    8  301.0  335  3.54  3.570  14.60   0   1   \n",
      "31           Volvo 142E  21.4    4  121.0  109  4.11  2.780  18.60   1   1   \n",
      "\n",
      "    gear  carb  \n",
      "0      4     4  \n",
      "1      4     4  \n",
      "2      4     1  \n",
      "3      3     1  \n",
      "4      3     2  \n",
      "5      3     1  \n",
      "6      3     4  \n",
      "7      4     2  \n",
      "8      4     2  \n",
      "9      4     4  \n",
      "10     4     4  \n",
      "11     3     3  \n",
      "12     3     3  \n",
      "13     3     3  \n",
      "14     3     4  \n",
      "15     3     4  \n",
      "16     3     4  \n",
      "17     4     1  \n",
      "18     4     2  \n",
      "19     4     1  \n",
      "20     3     1  \n",
      "21     3     2  \n",
      "22     3     2  \n",
      "23     3     4  \n",
      "24     3     2  \n",
      "25     4     1  \n",
      "26     5     2  \n",
      "27     5     2  \n",
      "28     5     4  \n",
      "29     5     6  \n",
      "30     5     8  \n",
      "31     4     2  \n"
     ]
    }
   ],
   "source": [
    "df2 = pd.read_excel(\"D:\\\\hackveda\\\\mtcars.xlsx\") #address of excel file\n",
    "print(df2)"
   ]
  },
  {
   "cell_type": "code",
   "execution_count": 51,
   "metadata": {},
   "outputs": [
    {
     "name": "stdout",
     "output_type": "stream",
     "text": [
      "   Id   Name\n",
      "0    1  John\n",
      "1    2  John\n",
      "2    3  John\n",
      "3    4  John\n",
      "4    5  John\n",
      "5    6  John\n",
      "6    7  John\n",
      "7    8  John\n"
     ]
    }
   ],
   "source": [
    "df2 = pd.read_excel(\"D:\\\\hackveda\\\\mtcars.xlsx\", \"Sheet2\", encoding = 'utf-8')\n",
    "print(df2)\n"
   ]
  },
  {
   "cell_type": "code",
   "execution_count": 52,
   "metadata": {},
   "outputs": [
    {
     "name": "stdout",
     "output_type": "stream",
     "text": [
      "     company            eps  revenue price      people\n",
      "0     Google          27.82       87   845      Sundar\n",
      "1  Microsoft           4.61      484    65  Bill Gates\n",
      "2      Apple             -1       85    64       Steve\n",
      "3        HCL  not available       50  1023        n.a.\n",
      "4      Wipro            5.6       -1  n.a.  Ravi Raman\n"
     ]
    }
   ],
   "source": [
    "# Read a file from URL\n",
    "\n",
    "import urllib\n",
    "myurl = \"http://devanshushukla.com/hackveda.in/pythonfiles/stock.csv\" # saving the Url in an object\n",
    "urlrequest = urllib.request.Request(myurl)   # sending a request\n",
    "file = urllib.request.urlopen(urlrequest)    # Request to open a file\n",
    "df3 = pd.read_csv(file)  #read the csv\n",
    "print(df3)  "
   ]
  },
  {
   "cell_type": "code",
   "execution_count": 53,
   "metadata": {},
   "outputs": [
    {
     "name": "stdout",
     "output_type": "stream",
     "text": [
      "                  model   mpg  cyl   disp   hp  drat     wt   qsec  vs  am  \\\n",
      "0             Mazda RX4  21.0    6  160.0  110  3.90  2.620  16.46   0   1   \n",
      "1         Mazda RX4 Wag  21.0    6  160.0  110  3.90  2.875  17.02   0   1   \n",
      "2            Datsun 710  22.8    4  108.0   93  3.85  2.320  18.61   1   1   \n",
      "3        Hornet 4 Drive  21.4    6  258.0  110  3.08  3.215  19.44   1   0   \n",
      "4     Hornet Sportabout  18.7    8  360.0  175  3.15  3.440  17.02   0   0   \n",
      "5               Valiant  18.1    6  225.0  105  2.76  3.460  20.22   1   0   \n",
      "6            Duster 360  14.3    8  360.0  245  3.21  3.570  15.84   0   0   \n",
      "7             Merc 240D  24.4    4  146.7   62  3.69  3.190  20.00   1   0   \n",
      "8              Merc 230  22.8    4  140.8   95  3.92  3.150  22.90   1   0   \n",
      "9              Merc 280  19.2    6  167.6  123  3.92  3.440  18.30   1   0   \n",
      "10            Merc 280C  17.8    6  167.6  123  3.92  3.440  18.90   1   0   \n",
      "11           Merc 450SE  16.4    8  275.8  180  3.07  4.070  17.40   0   0   \n",
      "12           Merc 450SL  17.3    8  275.8  180  3.07  3.730  17.60   0   0   \n",
      "13          Merc 450SLC  15.2    8  275.8  180  3.07  3.780  18.00   0   0   \n",
      "14   Cadillac Fleetwood  10.4    8  472.0  205  2.93  5.250  17.98   0   0   \n",
      "15  Lincoln Continental  10.4    8  460.0  215  3.00  5.424  17.82   0   0   \n",
      "16    Chrysler Imperial  14.7    8  440.0  230  3.23  5.345  17.42   0   0   \n",
      "17             Fiat 128  32.4    4   78.7   66  4.08  2.200  19.47   1   1   \n",
      "18          Honda Civic  30.4    4   75.7   52  4.93  1.615  18.52   1   1   \n",
      "19       Toyota Corolla  33.9    4   71.1   65  4.22  1.835  19.90   1   1   \n",
      "20        Toyota Corona  21.5    4  120.1   97  3.70  2.465  20.01   1   0   \n",
      "21     Dodge Challenger  15.5    8  318.0  150  2.76  3.520  16.87   0   0   \n",
      "22          AMC Javelin  15.2    8  304.0  150  3.15  3.435  17.30   0   0   \n",
      "23           Camaro Z28  13.3    8  350.0  245  3.73  3.840  15.41   0   0   \n",
      "24     Pontiac Firebird  19.2    8  400.0  175  3.08  3.845  17.05   0   0   \n",
      "25            Fiat X1-9  27.3    4   79.0   66  4.08  1.935  18.90   1   1   \n",
      "26        Porsche 914-2  26.0    4  120.3   91  4.43  2.140  16.70   0   1   \n",
      "27         Lotus Europa  30.4    4   95.1  113  3.77  1.513  16.90   1   1   \n",
      "28       Ford Pantera L  15.8    8  351.0  264  4.22  3.170  14.50   0   1   \n",
      "29         Ferrari Dino  19.7    6  145.0  175  3.62  2.770  15.50   0   1   \n",
      "30        Maserati Bora  15.0    8  301.0  335  3.54  3.570  14.60   0   1   \n",
      "31           Volvo 142E  21.4    4  121.0  109  4.11  2.780  18.60   1   1   \n",
      "\n",
      "    gear  carb  \n",
      "0      4     4  \n",
      "1      4     4  \n",
      "2      4     1  \n",
      "3      3     1  \n",
      "4      3     2  \n",
      "5      3     1  \n",
      "6      3     4  \n",
      "7      4     2  \n",
      "8      4     2  \n",
      "9      4     4  \n",
      "10     4     4  \n",
      "11     3     3  \n",
      "12     3     3  \n",
      "13     3     3  \n",
      "14     3     4  \n",
      "15     3     4  \n",
      "16     3     4  \n",
      "17     4     1  \n",
      "18     4     2  \n",
      "19     4     1  \n",
      "20     3     1  \n",
      "21     3     2  \n",
      "22     3     2  \n",
      "23     3     4  \n",
      "24     3     2  \n",
      "25     4     1  \n",
      "26     5     2  \n",
      "27     5     2  \n",
      "28     5     4  \n",
      "29     5     6  \n",
      "30     5     8  \n",
      "31     4     2  \n"
     ]
    }
   ],
   "source": [
    "\n",
    "\n",
    "\n",
    "df4 = pd.read_csv(\"D:\\\\hackveda\\\\mtcars.csv\")\n",
    "print(df4)"
   ]
  },
  {
   "cell_type": "code",
   "execution_count": 54,
   "metadata": {},
   "outputs": [
    {
     "data": {
      "text/html": [
       "<div>\n",
       "<style>\n",
       "    .dataframe thead tr:only-child th {\n",
       "        text-align: right;\n",
       "    }\n",
       "\n",
       "    .dataframe thead th {\n",
       "        text-align: left;\n",
       "    }\n",
       "\n",
       "    .dataframe tbody tr th {\n",
       "        vertical-align: top;\n",
       "    }\n",
       "</style>\n",
       "<table border=\"1\" class=\"dataframe\">\n",
       "  <thead>\n",
       "    <tr style=\"text-align: right;\">\n",
       "      <th></th>\n",
       "      <th>model</th>\n",
       "      <th>mpg</th>\n",
       "      <th>cyl</th>\n",
       "      <th>disp</th>\n",
       "      <th>hp</th>\n",
       "      <th>drat</th>\n",
       "      <th>wt</th>\n",
       "      <th>qsec</th>\n",
       "      <th>vs</th>\n",
       "      <th>am</th>\n",
       "      <th>gear</th>\n",
       "      <th>carb</th>\n",
       "    </tr>\n",
       "  </thead>\n",
       "  <tbody>\n",
       "    <tr>\n",
       "      <th>0</th>\n",
       "      <td>Mazda RX4</td>\n",
       "      <td>21.0</td>\n",
       "      <td>6</td>\n",
       "      <td>160.0</td>\n",
       "      <td>110</td>\n",
       "      <td>3.90</td>\n",
       "      <td>2.620</td>\n",
       "      <td>16.46</td>\n",
       "      <td>0</td>\n",
       "      <td>1</td>\n",
       "      <td>4</td>\n",
       "      <td>4</td>\n",
       "    </tr>\n",
       "    <tr>\n",
       "      <th>1</th>\n",
       "      <td>Mazda RX4 Wag</td>\n",
       "      <td>21.0</td>\n",
       "      <td>6</td>\n",
       "      <td>160.0</td>\n",
       "      <td>110</td>\n",
       "      <td>3.90</td>\n",
       "      <td>2.875</td>\n",
       "      <td>17.02</td>\n",
       "      <td>0</td>\n",
       "      <td>1</td>\n",
       "      <td>4</td>\n",
       "      <td>4</td>\n",
       "    </tr>\n",
       "    <tr>\n",
       "      <th>2</th>\n",
       "      <td>Datsun 710</td>\n",
       "      <td>22.8</td>\n",
       "      <td>4</td>\n",
       "      <td>108.0</td>\n",
       "      <td>93</td>\n",
       "      <td>3.85</td>\n",
       "      <td>2.320</td>\n",
       "      <td>18.61</td>\n",
       "      <td>1</td>\n",
       "      <td>1</td>\n",
       "      <td>4</td>\n",
       "      <td>1</td>\n",
       "    </tr>\n",
       "    <tr>\n",
       "      <th>3</th>\n",
       "      <td>Hornet 4 Drive</td>\n",
       "      <td>21.4</td>\n",
       "      <td>6</td>\n",
       "      <td>258.0</td>\n",
       "      <td>110</td>\n",
       "      <td>3.08</td>\n",
       "      <td>3.215</td>\n",
       "      <td>19.44</td>\n",
       "      <td>1</td>\n",
       "      <td>0</td>\n",
       "      <td>3</td>\n",
       "      <td>1</td>\n",
       "    </tr>\n",
       "    <tr>\n",
       "      <th>4</th>\n",
       "      <td>Hornet Sportabout</td>\n",
       "      <td>18.7</td>\n",
       "      <td>8</td>\n",
       "      <td>360.0</td>\n",
       "      <td>175</td>\n",
       "      <td>3.15</td>\n",
       "      <td>3.440</td>\n",
       "      <td>17.02</td>\n",
       "      <td>0</td>\n",
       "      <td>0</td>\n",
       "      <td>3</td>\n",
       "      <td>2</td>\n",
       "    </tr>\n",
       "  </tbody>\n",
       "</table>\n",
       "</div>"
      ],
      "text/plain": [
       "               model   mpg  cyl   disp   hp  drat     wt   qsec  vs  am  gear  \\\n",
       "0          Mazda RX4  21.0    6  160.0  110  3.90  2.620  16.46   0   1     4   \n",
       "1      Mazda RX4 Wag  21.0    6  160.0  110  3.90  2.875  17.02   0   1     4   \n",
       "2         Datsun 710  22.8    4  108.0   93  3.85  2.320  18.61   1   1     4   \n",
       "3     Hornet 4 Drive  21.4    6  258.0  110  3.08  3.215  19.44   1   0     3   \n",
       "4  Hornet Sportabout  18.7    8  360.0  175  3.15  3.440  17.02   0   0     3   \n",
       "\n",
       "   carb  \n",
       "0     4  \n",
       "1     4  \n",
       "2     1  \n",
       "3     1  \n",
       "4     2  "
      ]
     },
     "execution_count": 54,
     "metadata": {},
     "output_type": "execute_result"
    }
   ],
   "source": [
    "#top 5 rows\n",
    "df4.head(5)"
   ]
  },
  {
   "cell_type": "code",
   "execution_count": 55,
   "metadata": {},
   "outputs": [
    {
     "data": {
      "text/html": [
       "<div>\n",
       "<style>\n",
       "    .dataframe thead tr:only-child th {\n",
       "        text-align: right;\n",
       "    }\n",
       "\n",
       "    .dataframe thead th {\n",
       "        text-align: left;\n",
       "    }\n",
       "\n",
       "    .dataframe tbody tr th {\n",
       "        vertical-align: top;\n",
       "    }\n",
       "</style>\n",
       "<table border=\"1\" class=\"dataframe\">\n",
       "  <thead>\n",
       "    <tr style=\"text-align: right;\">\n",
       "      <th></th>\n",
       "      <th>model</th>\n",
       "      <th>mpg</th>\n",
       "      <th>cyl</th>\n",
       "      <th>disp</th>\n",
       "      <th>hp</th>\n",
       "      <th>drat</th>\n",
       "      <th>wt</th>\n",
       "      <th>qsec</th>\n",
       "      <th>vs</th>\n",
       "      <th>am</th>\n",
       "      <th>gear</th>\n",
       "      <th>carb</th>\n",
       "    </tr>\n",
       "  </thead>\n",
       "  <tbody>\n",
       "    <tr>\n",
       "      <th>27</th>\n",
       "      <td>Lotus Europa</td>\n",
       "      <td>30.4</td>\n",
       "      <td>4</td>\n",
       "      <td>95.1</td>\n",
       "      <td>113</td>\n",
       "      <td>3.77</td>\n",
       "      <td>1.513</td>\n",
       "      <td>16.9</td>\n",
       "      <td>1</td>\n",
       "      <td>1</td>\n",
       "      <td>5</td>\n",
       "      <td>2</td>\n",
       "    </tr>\n",
       "    <tr>\n",
       "      <th>28</th>\n",
       "      <td>Ford Pantera L</td>\n",
       "      <td>15.8</td>\n",
       "      <td>8</td>\n",
       "      <td>351.0</td>\n",
       "      <td>264</td>\n",
       "      <td>4.22</td>\n",
       "      <td>3.170</td>\n",
       "      <td>14.5</td>\n",
       "      <td>0</td>\n",
       "      <td>1</td>\n",
       "      <td>5</td>\n",
       "      <td>4</td>\n",
       "    </tr>\n",
       "    <tr>\n",
       "      <th>29</th>\n",
       "      <td>Ferrari Dino</td>\n",
       "      <td>19.7</td>\n",
       "      <td>6</td>\n",
       "      <td>145.0</td>\n",
       "      <td>175</td>\n",
       "      <td>3.62</td>\n",
       "      <td>2.770</td>\n",
       "      <td>15.5</td>\n",
       "      <td>0</td>\n",
       "      <td>1</td>\n",
       "      <td>5</td>\n",
       "      <td>6</td>\n",
       "    </tr>\n",
       "    <tr>\n",
       "      <th>30</th>\n",
       "      <td>Maserati Bora</td>\n",
       "      <td>15.0</td>\n",
       "      <td>8</td>\n",
       "      <td>301.0</td>\n",
       "      <td>335</td>\n",
       "      <td>3.54</td>\n",
       "      <td>3.570</td>\n",
       "      <td>14.6</td>\n",
       "      <td>0</td>\n",
       "      <td>1</td>\n",
       "      <td>5</td>\n",
       "      <td>8</td>\n",
       "    </tr>\n",
       "    <tr>\n",
       "      <th>31</th>\n",
       "      <td>Volvo 142E</td>\n",
       "      <td>21.4</td>\n",
       "      <td>4</td>\n",
       "      <td>121.0</td>\n",
       "      <td>109</td>\n",
       "      <td>4.11</td>\n",
       "      <td>2.780</td>\n",
       "      <td>18.6</td>\n",
       "      <td>1</td>\n",
       "      <td>1</td>\n",
       "      <td>4</td>\n",
       "      <td>2</td>\n",
       "    </tr>\n",
       "  </tbody>\n",
       "</table>\n",
       "</div>"
      ],
      "text/plain": [
       "             model   mpg  cyl   disp   hp  drat     wt  qsec  vs  am  gear  \\\n",
       "27    Lotus Europa  30.4    4   95.1  113  3.77  1.513  16.9   1   1     5   \n",
       "28  Ford Pantera L  15.8    8  351.0  264  4.22  3.170  14.5   0   1     5   \n",
       "29    Ferrari Dino  19.7    6  145.0  175  3.62  2.770  15.5   0   1     5   \n",
       "30   Maserati Bora  15.0    8  301.0  335  3.54  3.570  14.6   0   1     5   \n",
       "31      Volvo 142E  21.4    4  121.0  109  4.11  2.780  18.6   1   1     4   \n",
       "\n",
       "    carb  \n",
       "27     2  \n",
       "28     4  \n",
       "29     6  \n",
       "30     8  \n",
       "31     2  "
      ]
     },
     "execution_count": 55,
     "metadata": {},
     "output_type": "execute_result"
    }
   ],
   "source": [
    "df4.tail(5)"
   ]
  },
  {
   "cell_type": "code",
   "execution_count": 56,
   "metadata": {},
   "outputs": [
    {
     "data": {
      "text/plain": [
       "Index(['model', 'mpg', 'cyl', 'disp', 'hp', 'drat', 'wt', 'qsec', 'vs', 'am',\n",
       "       'gear', 'carb'],\n",
       "      dtype='object')"
      ]
     },
     "execution_count": 56,
     "metadata": {},
     "output_type": "execute_result"
    }
   ],
   "source": [
    "df4.columns"
   ]
  },
  {
   "cell_type": "code",
   "execution_count": 57,
   "metadata": {},
   "outputs": [
    {
     "data": {
      "text/plain": [
       "model     object\n",
       "mpg      float64\n",
       "cyl        int64\n",
       "disp     float64\n",
       "hp         int64\n",
       "drat     float64\n",
       "wt       float64\n",
       "qsec     float64\n",
       "vs         int64\n",
       "am         int64\n",
       "gear       int64\n",
       "carb       int64\n",
       "dtype: object"
      ]
     },
     "execution_count": 57,
     "metadata": {},
     "output_type": "execute_result"
    }
   ],
   "source": [
    "df4.dtypes"
   ]
  },
  {
   "cell_type": "code",
   "execution_count": 58,
   "metadata": {},
   "outputs": [
    {
     "data": {
      "text/plain": [
       "<bound method Series.unique of 0               Mazda RX4\n",
       "1           Mazda RX4 Wag\n",
       "2              Datsun 710\n",
       "3          Hornet 4 Drive\n",
       "4       Hornet Sportabout\n",
       "5                 Valiant\n",
       "6              Duster 360\n",
       "7               Merc 240D\n",
       "8                Merc 230\n",
       "9                Merc 280\n",
       "10              Merc 280C\n",
       "11             Merc 450SE\n",
       "12             Merc 450SL\n",
       "13            Merc 450SLC\n",
       "14     Cadillac Fleetwood\n",
       "15    Lincoln Continental\n",
       "16      Chrysler Imperial\n",
       "17               Fiat 128\n",
       "18            Honda Civic\n",
       "19         Toyota Corolla\n",
       "20          Toyota Corona\n",
       "21       Dodge Challenger\n",
       "22            AMC Javelin\n",
       "23             Camaro Z28\n",
       "24       Pontiac Firebird\n",
       "25              Fiat X1-9\n",
       "26          Porsche 914-2\n",
       "27           Lotus Europa\n",
       "28         Ford Pantera L\n",
       "29           Ferrari Dino\n",
       "30          Maserati Bora\n",
       "31             Volvo 142E\n",
       "Name: model, dtype: object>"
      ]
     },
     "execution_count": 58,
     "metadata": {},
     "output_type": "execute_result"
    }
   ],
   "source": [
    "df4['model'].unique"
   ]
  },
  {
   "cell_type": "code",
   "execution_count": 59,
   "metadata": {},
   "outputs": [
    {
     "data": {
      "text/html": [
       "<div>\n",
       "<style>\n",
       "    .dataframe thead tr:only-child th {\n",
       "        text-align: right;\n",
       "    }\n",
       "\n",
       "    .dataframe thead th {\n",
       "        text-align: left;\n",
       "    }\n",
       "\n",
       "    .dataframe tbody tr th {\n",
       "        vertical-align: top;\n",
       "    }\n",
       "</style>\n",
       "<table border=\"1\" class=\"dataframe\">\n",
       "  <thead>\n",
       "    <tr style=\"text-align: right;\">\n",
       "      <th></th>\n",
       "      <th>hp</th>\n",
       "      <th>vs</th>\n",
       "    </tr>\n",
       "  </thead>\n",
       "  <tbody>\n",
       "    <tr>\n",
       "      <th>0</th>\n",
       "      <td>110</td>\n",
       "      <td>0</td>\n",
       "    </tr>\n",
       "    <tr>\n",
       "      <th>1</th>\n",
       "      <td>110</td>\n",
       "      <td>0</td>\n",
       "    </tr>\n",
       "    <tr>\n",
       "      <th>2</th>\n",
       "      <td>93</td>\n",
       "      <td>1</td>\n",
       "    </tr>\n",
       "    <tr>\n",
       "      <th>3</th>\n",
       "      <td>110</td>\n",
       "      <td>1</td>\n",
       "    </tr>\n",
       "    <tr>\n",
       "      <th>4</th>\n",
       "      <td>175</td>\n",
       "      <td>0</td>\n",
       "    </tr>\n",
       "    <tr>\n",
       "      <th>5</th>\n",
       "      <td>105</td>\n",
       "      <td>1</td>\n",
       "    </tr>\n",
       "    <tr>\n",
       "      <th>6</th>\n",
       "      <td>245</td>\n",
       "      <td>0</td>\n",
       "    </tr>\n",
       "    <tr>\n",
       "      <th>7</th>\n",
       "      <td>62</td>\n",
       "      <td>1</td>\n",
       "    </tr>\n",
       "    <tr>\n",
       "      <th>8</th>\n",
       "      <td>95</td>\n",
       "      <td>1</td>\n",
       "    </tr>\n",
       "    <tr>\n",
       "      <th>9</th>\n",
       "      <td>123</td>\n",
       "      <td>1</td>\n",
       "    </tr>\n",
       "    <tr>\n",
       "      <th>10</th>\n",
       "      <td>123</td>\n",
       "      <td>1</td>\n",
       "    </tr>\n",
       "    <tr>\n",
       "      <th>11</th>\n",
       "      <td>180</td>\n",
       "      <td>0</td>\n",
       "    </tr>\n",
       "    <tr>\n",
       "      <th>12</th>\n",
       "      <td>180</td>\n",
       "      <td>0</td>\n",
       "    </tr>\n",
       "    <tr>\n",
       "      <th>13</th>\n",
       "      <td>180</td>\n",
       "      <td>0</td>\n",
       "    </tr>\n",
       "    <tr>\n",
       "      <th>14</th>\n",
       "      <td>205</td>\n",
       "      <td>0</td>\n",
       "    </tr>\n",
       "    <tr>\n",
       "      <th>15</th>\n",
       "      <td>215</td>\n",
       "      <td>0</td>\n",
       "    </tr>\n",
       "    <tr>\n",
       "      <th>16</th>\n",
       "      <td>230</td>\n",
       "      <td>0</td>\n",
       "    </tr>\n",
       "    <tr>\n",
       "      <th>17</th>\n",
       "      <td>66</td>\n",
       "      <td>1</td>\n",
       "    </tr>\n",
       "    <tr>\n",
       "      <th>18</th>\n",
       "      <td>52</td>\n",
       "      <td>1</td>\n",
       "    </tr>\n",
       "    <tr>\n",
       "      <th>19</th>\n",
       "      <td>65</td>\n",
       "      <td>1</td>\n",
       "    </tr>\n",
       "    <tr>\n",
       "      <th>20</th>\n",
       "      <td>97</td>\n",
       "      <td>1</td>\n",
       "    </tr>\n",
       "    <tr>\n",
       "      <th>21</th>\n",
       "      <td>150</td>\n",
       "      <td>0</td>\n",
       "    </tr>\n",
       "    <tr>\n",
       "      <th>22</th>\n",
       "      <td>150</td>\n",
       "      <td>0</td>\n",
       "    </tr>\n",
       "    <tr>\n",
       "      <th>23</th>\n",
       "      <td>245</td>\n",
       "      <td>0</td>\n",
       "    </tr>\n",
       "    <tr>\n",
       "      <th>24</th>\n",
       "      <td>175</td>\n",
       "      <td>0</td>\n",
       "    </tr>\n",
       "    <tr>\n",
       "      <th>25</th>\n",
       "      <td>66</td>\n",
       "      <td>1</td>\n",
       "    </tr>\n",
       "    <tr>\n",
       "      <th>26</th>\n",
       "      <td>91</td>\n",
       "      <td>0</td>\n",
       "    </tr>\n",
       "    <tr>\n",
       "      <th>27</th>\n",
       "      <td>113</td>\n",
       "      <td>1</td>\n",
       "    </tr>\n",
       "    <tr>\n",
       "      <th>28</th>\n",
       "      <td>264</td>\n",
       "      <td>0</td>\n",
       "    </tr>\n",
       "    <tr>\n",
       "      <th>29</th>\n",
       "      <td>175</td>\n",
       "      <td>0</td>\n",
       "    </tr>\n",
       "    <tr>\n",
       "      <th>30</th>\n",
       "      <td>335</td>\n",
       "      <td>0</td>\n",
       "    </tr>\n",
       "    <tr>\n",
       "      <th>31</th>\n",
       "      <td>109</td>\n",
       "      <td>1</td>\n",
       "    </tr>\n",
       "  </tbody>\n",
       "</table>\n",
       "</div>"
      ],
      "text/plain": [
       "     hp  vs\n",
       "0   110   0\n",
       "1   110   0\n",
       "2    93   1\n",
       "3   110   1\n",
       "4   175   0\n",
       "5   105   1\n",
       "6   245   0\n",
       "7    62   1\n",
       "8    95   1\n",
       "9   123   1\n",
       "10  123   1\n",
       "11  180   0\n",
       "12  180   0\n",
       "13  180   0\n",
       "14  205   0\n",
       "15  215   0\n",
       "16  230   0\n",
       "17   66   1\n",
       "18   52   1\n",
       "19   65   1\n",
       "20   97   1\n",
       "21  150   0\n",
       "22  150   0\n",
       "23  245   0\n",
       "24  175   0\n",
       "25   66   1\n",
       "26   91   0\n",
       "27  113   1\n",
       "28  264   0\n",
       "29  175   0\n",
       "30  335   0\n",
       "31  109   1"
      ]
     },
     "execution_count": 59,
     "metadata": {},
     "output_type": "execute_result"
    }
   ],
   "source": [
    "df4[['hp','vs']]"
   ]
  },
  {
   "cell_type": "code",
   "execution_count": null,
   "metadata": {
    "collapsed": true
   },
   "outputs": [],
   "source": []
  }
 ],
 "metadata": {
  "kernelspec": {
   "display_name": "Python 3",
   "language": "python",
   "name": "python3"
  },
  "language_info": {
   "codemirror_mode": {
    "name": "ipython",
    "version": 3
   },
   "file_extension": ".py",
   "mimetype": "text/x-python",
   "name": "python",
   "nbconvert_exporter": "python",
   "pygments_lexer": "ipython3",
   "version": "3.6.1"
  }
 },
 "nbformat": 4,
 "nbformat_minor": 2
}
